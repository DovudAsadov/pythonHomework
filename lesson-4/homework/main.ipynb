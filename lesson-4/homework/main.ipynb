{
 "cells": [
  {
   "cell_type": "code",
   "execution_count": null,
   "metadata": {},
   "outputs": [
    {
     "name": "stdout",
     "output_type": "stream",
     "text": [
      "[1, 1, 3, 4]\n"
     ]
    }
   ],
   "source": [
    "#q1\n",
    "list1 = [1, 1, 2]\n",
    "list2 = [2, 3, 4]\n",
    "\n",
    "output = [i for i in list1 if i not in list2] + [j for j in list2 if j not in list1]\n",
    "print(output)"
   ]
  },
  {
   "cell_type": "code",
   "execution_count": null,
   "metadata": {},
   "outputs": [
    {
     "name": "stdout",
     "output_type": "stream",
     "text": [
      "1\n",
      "4\n",
      "9\n",
      "16\n"
     ]
    }
   ],
   "source": [
    "#q2\n",
    "n = int(input(\"n= \"))\n",
    "i = 1\n",
    "while i < n:\n",
    "    print(i**2)\n",
    "    i+=1"
   ]
  },
  {
   "cell_type": "code",
   "execution_count": null,
   "metadata": {},
   "outputs": [
    {
     "name": "stdout",
     "output_type": "stream",
     "text": [
      "hel_lo\n",
      "ass_alom_\n",
      "abc_abc_dab_cdea_bc_def_abc_def_g\n"
     ]
    }
   ],
   "source": [
    "#q3\n",
    "def insert_underscore(txt):\n",
    "    vowels = \"aeiou\"\n",
    "    result = []\n",
    "    i = 0\n",
    "    while i < len(txt):\n",
    "        result.append(txt[i])\n",
    "        \n",
    "        if (i + 1) % 3 == 0 and i != len(txt) - 1:\n",
    "            if txt[i] in vowels or (i > 0 and result[-2] == \"_\"):\n",
    "                if i + 1 < len(txt):\n",
    "                    result.append(txt[i + 1])\n",
    "                    result.append(\"_\")\n",
    "                    i += 1\n",
    "                \n",
    "            else:\n",
    "                result.append(\"_\")\n",
    "        \n",
    "        i += 1\n",
    "    \n",
    "    return \"\".join(result)\n",
    "\n",
    "print(insert_underscore(\"abcabcdabcdeabcdefabcdefg\"))"
   ]
  },
  {
   "cell_type": "code",
   "execution_count": 26,
   "metadata": {},
   "outputs": [
    {
     "name": "stdout",
     "output_type": "stream",
     "text": [
      "Too high!\n",
      "Too low!\n",
      "Too low!\n",
      "Too low!\n",
      "Too low!\n",
      "Too low!\n",
      "Too low!\n",
      "You guessed it right!\n"
     ]
    }
   ],
   "source": [
    "#q4\n",
    "import random\n",
    "\n",
    "def guess_number():\n",
    "    playing = True\n",
    "    computer = random.randint(1, 100)\n",
    "    attempts = 0\n",
    "    \n",
    "    while playing:\n",
    "        player = int(input(\"Enter your guess: \"))\n",
    "        attempts += 1\n",
    "        \n",
    "        if player > computer:\n",
    "            print(\"Too high!\")\n",
    "        elif player < computer:\n",
    "            print(\"Too low!\")\n",
    "        else:\n",
    "            print(\"You guessed it right!\")\n",
    "            break\n",
    "        \n",
    "        if attempts >= 10:\n",
    "            print(\"You lost!\")\n",
    "            another_round = input(\" Would you like to play again? Y or N: \")\n",
    "            if another_round in [\"Y\", \"YES\", \"y\",\"yes\",\"ok\"]:\n",
    "                guess_number()\n",
    "            else:\n",
    "                playing = False\n",
    "\n",
    "guess_number()"
   ]
  },
  {
   "cell_type": "code",
   "execution_count": 27,
   "metadata": {},
   "outputs": [
    {
     "name": "stdout",
     "output_type": "stream",
     "text": [
      "Password must contain an uppercase letter.\n"
     ]
    }
   ],
   "source": [
    "#q5\n",
    "def password_checker():\n",
    "    password = input(\"Enter a password: \")\n",
    "    if len(password) < 8:\n",
    "        print(\"Password is too short.\")\n",
    "    elif not any(char.isupper() for char in password):\n",
    "        print(\"Password must contain an uppercase letter.\")\n",
    "    else:\n",
    "        print(\"Password is strong.\")\n",
    "\n",
    "password_checker()"
   ]
  },
  {
   "cell_type": "code",
   "execution_count": 30,
   "metadata": {},
   "outputs": [
    {
     "name": "stdout",
     "output_type": "stream",
     "text": [
      "2 3 5 7 11 13 17 19 23 29 31 37 41 43 47 53 59 61 67 71 73 79 83 89 97 \n"
     ]
    }
   ],
   "source": [
    "#q6\n",
    "def prime_numbers():\n",
    "    for num in range(2, 101):\n",
    "        is_prime = True\n",
    "        for i in range(2, int(num ** 0.5) + 1):\n",
    "            if num % i == 0:\n",
    "                is_prime = False\n",
    "                break\n",
    "        if is_prime:\n",
    "            print(num, end=\" \")\n",
    "    print()\n",
    "\n",
    "prime_numbers()"
   ]
  },
  {
   "cell_type": "code",
   "execution_count": null,
   "metadata": {},
   "outputs": [
    {
     "name": "stdout",
     "output_type": "stream",
     "text": [
      "Computer chose: paper\n",
      "Computer wins this round!\n",
      "Score -> You: 0, Computer: 1\n",
      "Computer chose: paper\n",
      "Computer wins this round!\n",
      "Score -> You: 0, Computer: 2\n",
      "Computer chose: rock\n",
      "You win this round!\n",
      "Score -> You: 1, Computer: 2\n",
      "Invalid choice. Try again.\n",
      "Computer chose: rock\n",
      "You win this round!\n",
      "Score -> You: 2, Computer: 2\n",
      "Computer chose: rock\n",
      "You win this round!\n",
      "Score -> You: 3, Computer: 2\n",
      "Computer chose: scissors\n",
      "Computer wins this round!\n",
      "Score -> You: 3, Computer: 3\n",
      "Computer chose: scissors\n",
      "Computer wins this round!\n",
      "Score -> You: 3, Computer: 4\n",
      "Invalid choice. Try again.\n",
      "Invalid choice. Try again.\n",
      "Invalid choice. Try again.\n"
     ]
    }
   ],
   "source": [
    "#Bonus\n",
    "def rock_paper_scissors():\n",
    "    choices = [\"rock\", \"paper\", \"scissors\"]\n",
    "    player_score = 0\n",
    "    computer_score = 0\n",
    "    \n",
    "    while player_score < 5 and computer_score < 5:\n",
    "        computer_choice = random.choice(choices)\n",
    "        player_choice = input(\"Enter rock, paper, or scissors: \").lower()\n",
    "        \n",
    "        if player_choice not in choices:\n",
    "            print(\"Invalid choice. Try again.\")\n",
    "            continue\n",
    "\n",
    "        if player_choice == \"done\":\n",
    "            break\n",
    "        \n",
    "        print(f\"Computer chose: {computer_choice}\")\n",
    "        \n",
    "        if player_choice == computer_choice:\n",
    "            print(\"It's a tie!\")\n",
    "        elif (player_choice == \"rock\" and computer_choice == \"scissors\") or \\\n",
    "             (player_choice == \"scissors\" and computer_choice == \"paper\") or \\\n",
    "             (player_choice == \"paper\" and computer_choice == \"rock\"):\n",
    "            print(\"You win this round!\")\n",
    "            player_score += 1\n",
    "        else:\n",
    "            print(\"Computer wins this round!\")\n",
    "            computer_score += 1\n",
    "        \n",
    "        print(f\"Score -> You: {player_score}, Computer: {computer_score}\")\n",
    "    \n",
    "    if player_score == 5:\n",
    "        print(\"Congratulations! You won the game!\")\n",
    "    else:\n",
    "        print(\"Computer wins the game. Better luck next time!\")\n",
    "\n",
    "rock_paper_scissors()"
   ]
  },
  {
   "cell_type": "code",
   "execution_count": null,
   "metadata": {},
   "outputs": [],
   "source": []
  }
 ],
 "metadata": {
  "kernelspec": {
   "display_name": "Python 3",
   "language": "python",
   "name": "python3"
  },
  "language_info": {
   "codemirror_mode": {
    "name": "ipython",
    "version": 3
   },
   "file_extension": ".py",
   "mimetype": "text/x-python",
   "name": "python",
   "nbconvert_exporter": "python",
   "pygments_lexer": "ipython3",
   "version": "3.12.7"
  }
 },
 "nbformat": 4,
 "nbformat_minor": 2
}
