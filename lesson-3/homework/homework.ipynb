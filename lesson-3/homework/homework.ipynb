{
 "cells": [
  {
   "cell_type": "markdown",
   "metadata": {},
   "source": [
    "### **List Tasks**"
   ]
  },
  {
   "cell_type": "code",
   "execution_count": 52,
   "metadata": {},
   "outputs": [
    {
     "name": "stdout",
     "output_type": "stream",
     "text": [
      "4\n"
     ]
    }
   ],
   "source": [
    "#q1\n",
    "a1 = [1,2,3,4,5,2.,5,6,7,8,5,3,2,3,4,6,7,8,9,8,7,6,5,4,3]\n",
    "value_to_count = 5\n",
    "count = a1.count(value_to_count)\n",
    "print(count)"
   ]
  },
  {
   "cell_type": "code",
   "execution_count": 53,
   "metadata": {},
   "outputs": [
    {
     "name": "stdout",
     "output_type": "stream",
     "text": [
      "123.0\n"
     ]
    }
   ],
   "source": [
    "# q2\n",
    "sum_of_elements = sum(a1)\n",
    "print(sum_of_elements)"
   ]
  },
  {
   "cell_type": "code",
   "execution_count": 54,
   "metadata": {},
   "outputs": [
    {
     "name": "stdout",
     "output_type": "stream",
     "text": [
      "9\n"
     ]
    }
   ],
   "source": [
    "# q3\n",
    "max_element = max(a1)\n",
    "print(max_element)"
   ]
  },
  {
   "cell_type": "code",
   "execution_count": 55,
   "metadata": {},
   "outputs": [
    {
     "name": "stdout",
     "output_type": "stream",
     "text": [
      "1\n"
     ]
    }
   ],
   "source": [
    "# q4\n",
    "min_element = min(a1)\n",
    "print(min_element)"
   ]
  },
  {
   "cell_type": "code",
   "execution_count": 56,
   "metadata": {},
   "outputs": [
    {
     "name": "stdout",
     "output_type": "stream",
     "text": [
      "True\n"
     ]
    }
   ],
   "source": [
    "# q5\n",
    "element_to_check = 7\n",
    "exists = element_to_check in a1\n",
    "print(exists)"
   ]
  },
  {
   "cell_type": "code",
   "execution_count": 57,
   "metadata": {},
   "outputs": [
    {
     "name": "stdout",
     "output_type": "stream",
     "text": [
      "1\n"
     ]
    }
   ],
   "source": [
    "#q6\n",
    "if len(a1) != 0:\n",
    "    print(a1[0])\n",
    "else:\n",
    "    print(\"List empty\")"
   ]
  },
  {
   "cell_type": "code",
   "execution_count": 58,
   "metadata": {},
   "outputs": [
    {
     "name": "stdout",
     "output_type": "stream",
     "text": [
      "3\n"
     ]
    }
   ],
   "source": [
    "#q7\n",
    "if len(a1) != 0:\n",
    "    print(a1[-1])\n",
    "else:\n",
    "    print(\"List empty\")"
   ]
  },
  {
   "cell_type": "code",
   "execution_count": 59,
   "metadata": {},
   "outputs": [
    {
     "name": "stdout",
     "output_type": "stream",
     "text": [
      "[1, 2, 3]\n"
     ]
    }
   ],
   "source": [
    "#q8\n",
    "a2 = a1[:3]\n",
    "print(a2)"
   ]
  },
  {
   "cell_type": "code",
   "execution_count": 60,
   "metadata": {},
   "outputs": [
    {
     "name": "stdout",
     "output_type": "stream",
     "text": [
      "[3, 4, 5, 6, 7, 8, 9, 8, 7, 6, 4, 3, 2, 3, 5, 8, 7, 6, 5, 2.0, 5, 4, 3, 2, 1]\n"
     ]
    }
   ],
   "source": [
    "#q9\n",
    "a3 = a1[::-1]\n",
    "print(a3)"
   ]
  },
  {
   "cell_type": "code",
   "execution_count": 61,
   "metadata": {},
   "outputs": [
    {
     "name": "stdout",
     "output_type": "stream",
     "text": [
      "[1, 2, 2.0, 2, 3, 3, 3, 3, 4, 4, 4, 5, 5, 5, 5, 6, 6, 6, 7, 7, 7, 8, 8, 8, 9]\n"
     ]
    }
   ],
   "source": [
    "#q10\n",
    "a4 = sorted(a1)\n",
    "print(a4)"
   ]
  },
  {
   "cell_type": "code",
   "execution_count": 62,
   "metadata": {},
   "outputs": [
    {
     "name": "stdout",
     "output_type": "stream",
     "text": [
      "[1, 2, 3, 4, 5, 6, 7, 8, 9]\n"
     ]
    }
   ],
   "source": [
    "#q11\n",
    "a5 = list(set(a1))\n",
    "print(a5)"
   ]
  },
  {
   "cell_type": "code",
   "execution_count": 63,
   "metadata": {},
   "outputs": [
    {
     "name": "stdout",
     "output_type": "stream",
     "text": [
      "[1, 2, 3, 11, 4, 5, 2.0, 5, 6, 7, 8, 5, 3, 2, 3, 4, 6, 7, 8, 9, 8, 7, 6, 5, 4, 3]\n"
     ]
    }
   ],
   "source": [
    "#q12\n",
    "index_insert, number_insert = 3, 11\n",
    "a1.insert(index_insert, number_insert)\n",
    "print(a1)"
   ]
  },
  {
   "cell_type": "code",
   "execution_count": 64,
   "metadata": {},
   "outputs": [
    {
     "name": "stdout",
     "output_type": "stream",
     "text": [
      "5\n"
     ]
    }
   ],
   "source": [
    "#q13\n",
    "element_index = a1.index(5) if 5 in a1 else -1\n",
    "print(element_index)"
   ]
  },
  {
   "cell_type": "code",
   "execution_count": 65,
   "metadata": {},
   "outputs": [
    {
     "name": "stdout",
     "output_type": "stream",
     "text": [
      "False\n"
     ]
    }
   ],
   "source": [
    "# q14\n",
    "is_empty = len(a1) == 0\n",
    "print(is_empty)"
   ]
  },
  {
   "cell_type": "code",
   "execution_count": 66,
   "metadata": {},
   "outputs": [
    {
     "name": "stdout",
     "output_type": "stream",
     "text": [
      "12\n"
     ]
    }
   ],
   "source": [
    "# q15\n",
    "even_count = sum(1 for x in a1 if x % 2 == 0)\n",
    "print(even_count)"
   ]
  },
  {
   "cell_type": "code",
   "execution_count": 67,
   "metadata": {},
   "outputs": [
    {
     "name": "stdout",
     "output_type": "stream",
     "text": [
      "14\n"
     ]
    }
   ],
   "source": [
    "# q16\n",
    "odd_count = sum(1 for x in a1 if x % 2 != 0)\n",
    "print(odd_count)"
   ]
  },
  {
   "cell_type": "code",
   "execution_count": 68,
   "metadata": {},
   "outputs": [
    {
     "name": "stdout",
     "output_type": "stream",
     "text": [
      "[1, 2, 3, 11, 4, 5, 2.0, 5, 6, 7, 8, 5, 3, 2, 3, 4, 6, 7, 8, 9, 8, 7, 6, 5, 4, 3, 1, 2, 3]\n"
     ]
    }
   ],
   "source": [
    "# q17\n",
    "concatenated_list = a1 + a2\n",
    "print(concatenated_list)"
   ]
  },
  {
   "cell_type": "code",
   "execution_count": 69,
   "metadata": {},
   "outputs": [
    {
     "name": "stdout",
     "output_type": "stream",
     "text": [
      "False\n"
     ]
    }
   ],
   "source": [
    "# q18\n",
    "sublist = [3, 4, 5]\n",
    "sublist_exists = any(a1[i:i+len(sublist)] == sublist for i in range(len(a1)-len(sublist)+1))\n",
    "print(sublist_exists)"
   ]
  },
  {
   "cell_type": "code",
   "execution_count": 70,
   "metadata": {},
   "outputs": [
    {
     "name": "stdout",
     "output_type": "stream",
     "text": [
      "9\n"
     ]
    }
   ],
   "source": [
    "# q20\n",
    "second_largest = sorted(set(a1))[-2] if len(set(a1)) > 1 else None\n",
    "print(second_largest)"
   ]
  },
  {
   "cell_type": "code",
   "execution_count": 71,
   "metadata": {},
   "outputs": [
    {
     "name": "stdout",
     "output_type": "stream",
     "text": [
      "2\n"
     ]
    }
   ],
   "source": [
    "# q21\n",
    "second_smallest = sorted(set(a1))[1] if len(set(a1)) > 1 else None\n",
    "print(second_smallest)"
   ]
  },
  {
   "cell_type": "code",
   "execution_count": 72,
   "metadata": {},
   "outputs": [
    {
     "name": "stdout",
     "output_type": "stream",
     "text": [
      "[2, 4, 2.0, 6, 8, 2, 4, 6, 8, 8, 6, 4]\n"
     ]
    }
   ],
   "source": [
    "# q22\n",
    "even_numbers = [x for x in a1 if x % 2 == 0]\n",
    "print(even_numbers)"
   ]
  },
  {
   "cell_type": "code",
   "execution_count": 73,
   "metadata": {},
   "outputs": [
    {
     "name": "stdout",
     "output_type": "stream",
     "text": [
      "[1, 3, 11, 5, 5, 7, 5, 3, 3, 7, 9, 7, 5, 3]\n"
     ]
    }
   ],
   "source": [
    "# q23\n",
    "odd_numbers = [x for x in a1 if x % 2 != 0]\n",
    "print(odd_numbers)"
   ]
  },
  {
   "cell_type": "code",
   "execution_count": 74,
   "metadata": {},
   "outputs": [
    {
     "name": "stdout",
     "output_type": "stream",
     "text": [
      "26\n"
     ]
    }
   ],
   "source": [
    "# q24\n",
    "list_length = len(a1)\n",
    "print(list_length)"
   ]
  },
  {
   "cell_type": "code",
   "execution_count": 75,
   "metadata": {},
   "outputs": [
    {
     "name": "stdout",
     "output_type": "stream",
     "text": [
      "[1, 2, 3, 11, 4, 5, 2.0, 5, 6, 7, 8, 5, 3, 2, 3, 4, 6, 7, 8, 9, 8, 7, 6, 5, 4, 3]\n"
     ]
    }
   ],
   "source": [
    "# q25\n",
    "copy_list = a1[:]\n",
    "print(copy_list)"
   ]
  },
  {
   "cell_type": "code",
   "execution_count": 76,
   "metadata": {},
   "outputs": [
    {
     "name": "stdout",
     "output_type": "stream",
     "text": [
      "(3, 2)\n"
     ]
    }
   ],
   "source": [
    "# q26\n",
    "mid_index = len(a1) // 2\n",
    "middle_element = a1[mid_index] if len(a1) % 2 != 0 else (a1[mid_index - 1], a1[mid_index])\n",
    "print(middle_element)"
   ]
  },
  {
   "cell_type": "code",
   "execution_count": 77,
   "metadata": {},
   "outputs": [
    {
     "name": "stdout",
     "output_type": "stream",
     "text": [
      "11\n"
     ]
    }
   ],
   "source": [
    "# q27\n",
    "sublist_max = max(a1[2:5])\n",
    "print(sublist_max)"
   ]
  },
  {
   "cell_type": "code",
   "execution_count": 78,
   "metadata": {},
   "outputs": [
    {
     "name": "stdout",
     "output_type": "stream",
     "text": [
      "3\n"
     ]
    }
   ],
   "source": [
    "# q28\n",
    "sublist_min = min(a1[2:5])\n",
    "print(sublist_min)"
   ]
  },
  {
   "cell_type": "code",
   "execution_count": 79,
   "metadata": {},
   "outputs": [
    {
     "name": "stdout",
     "output_type": "stream",
     "text": [
      "[1, 2, 3, 11, 5, 2.0, 5, 6, 7, 8, 5, 3, 2, 3, 4, 6, 7, 8, 9, 8, 7, 6, 5, 4, 3]\n"
     ]
    }
   ],
   "source": [
    "# q29\n",
    "index_remove = 4\n",
    "if 0 <= index_remove < len(a1):\n",
    "    del a1[index_remove]\n",
    "print(a1)"
   ]
  },
  {
   "cell_type": "code",
   "execution_count": 80,
   "metadata": {},
   "outputs": [
    {
     "name": "stdout",
     "output_type": "stream",
     "text": [
      "False\n"
     ]
    }
   ],
   "source": [
    "# q30\n",
    "is_sorted = a1 == sorted(a1)\n",
    "print(is_sorted)"
   ]
  },
  {
   "cell_type": "code",
   "execution_count": 81,
   "metadata": {},
   "outputs": [
    {
     "name": "stdout",
     "output_type": "stream",
     "text": [
      "[1, 1, 1, 2, 2, 2, 3, 3, 3, 11, 11, 11, 5, 5, 5, 2.0, 2.0, 2.0, 5, 5, 5, 6, 6, 6, 7, 7, 7, 8, 8, 8, 5, 5, 5, 3, 3, 3, 2, 2, 2, 3, 3, 3, 4, 4, 4, 6, 6, 6, 7, 7, 7, 8, 8, 8, 9, 9, 9, 8, 8, 8, 7, 7, 7, 6, 6, 6, 5, 5, 5, 4, 4, 4, 3, 3, 3]\n"
     ]
    }
   ],
   "source": [
    "# q31\n",
    "repeat_times = 3\n",
    "repeated_list = [x for x in a1 for _ in range(repeat_times)]\n",
    "print(repeated_list)"
   ]
  },
  {
   "cell_type": "code",
   "execution_count": 82,
   "metadata": {},
   "outputs": [
    {
     "name": "stdout",
     "output_type": "stream",
     "text": [
      "[1, 1, 2, 2.0, 2, 2, 3, 3, 3, 3, 3, 4, 4, 5, 5, 5, 5, 6, 6, 6, 7, 7, 7, 8, 8, 8, 9, 11]\n"
     ]
    }
   ],
   "source": [
    "# q32\n",
    "merged_sorted_list = sorted(a1 + a2)\n",
    "print(merged_sorted_list)\n"
   ]
  },
  {
   "cell_type": "code",
   "execution_count": 83,
   "metadata": {},
   "outputs": [
    {
     "name": "stdout",
     "output_type": "stream",
     "text": [
      "[4, 6, 10, 22]\n"
     ]
    }
   ],
   "source": [
    "# q33\n",
    "value_to_find = 5\n",
    "indices = [i for i, x in enumerate(a1) if x == value_to_find]\n",
    "print(indices)"
   ]
  },
  {
   "cell_type": "code",
   "execution_count": 84,
   "metadata": {},
   "outputs": [
    {
     "name": "stdout",
     "output_type": "stream",
     "text": [
      "[4, 3, 1, 2, 3, 11, 5, 2.0, 5, 6, 7, 8, 5, 3, 2, 3, 4, 6, 7, 8, 9, 8, 7, 6, 5]\n"
     ]
    }
   ],
   "source": [
    "# q34\n",
    "rotation_amount = 2\n",
    "rotated_list = a1[-rotation_amount:] + a1[:-rotation_amount]\n",
    "print(rotated_list)"
   ]
  },
  {
   "cell_type": "code",
   "execution_count": 85,
   "metadata": {},
   "outputs": [
    {
     "name": "stdout",
     "output_type": "stream",
     "text": [
      "[1, 2, 3, 4, 5, 6, 7, 8, 9, 10]\n"
     ]
    }
   ],
   "source": [
    "# q35\n",
    "range_list = list(range(1, 11))\n",
    "print(range_list)"
   ]
  },
  {
   "cell_type": "code",
   "execution_count": 86,
   "metadata": {},
   "outputs": [
    {
     "name": "stdout",
     "output_type": "stream",
     "text": [
      "130.0\n"
     ]
    }
   ],
   "source": [
    "# q36\n",
    "sum_positive = sum(x for x in a1 if x > 0)\n",
    "print(sum_positive)"
   ]
  },
  {
   "cell_type": "code",
   "execution_count": 87,
   "metadata": {},
   "outputs": [
    {
     "name": "stdout",
     "output_type": "stream",
     "text": [
      "0\n"
     ]
    }
   ],
   "source": [
    "# q37\n",
    "sum_negative = sum(x for x in a1 if x < 0)\n",
    "print(sum_negative)"
   ]
  },
  {
   "cell_type": "code",
   "execution_count": 88,
   "metadata": {},
   "outputs": [
    {
     "name": "stdout",
     "output_type": "stream",
     "text": [
      "False\n"
     ]
    }
   ],
   "source": [
    "# q38\n",
    "is_palindrome = a1 == a1[::-1]\n",
    "print(is_palindrome)"
   ]
  },
  {
   "cell_type": "code",
   "execution_count": 89,
   "metadata": {},
   "outputs": [
    {
     "name": "stdout",
     "output_type": "stream",
     "text": [
      "[[1, 2, 3], [11, 5, 2.0], [5, 6, 7], [8, 5, 3], [2, 3, 4], [6, 7, 8], [9, 8, 7], [6, 5, 4], [3]]\n"
     ]
    }
   ],
   "source": [
    "# q39\n",
    "sublist_size = 3\n",
    "nested_list = [a1[i:i+sublist_size] for i in range(0, len(a1), sublist_size)]\n",
    "print(nested_list)"
   ]
  },
  {
   "cell_type": "code",
   "execution_count": 90,
   "metadata": {},
   "outputs": [
    {
     "name": "stdout",
     "output_type": "stream",
     "text": [
      "[1, 2, 3, 11, 5, 6, 7, 8, 4, 9]\n"
     ]
    }
   ],
   "source": [
    "# q40\n",
    "seen = set()\n",
    "unique_ordered_elements = [x for x in a1 if not (x in seen or seen.add(x))]\n",
    "print(unique_ordered_elements)"
   ]
  },
  {
   "cell_type": "markdown",
   "metadata": {},
   "source": [
    "### **Tuple Task**"
   ]
  },
  {
   "cell_type": "code",
   "execution_count": 93,
   "metadata": {},
   "outputs": [
    {
     "name": "stdout",
     "output_type": "stream",
     "text": [
      "2\n"
     ]
    }
   ],
   "source": [
    "# q1\n",
    "t1 = (1,2,3,4,5,6,6,7,11,7,5)\n",
    "value_to_count = 5\n",
    "count = t1.count(value_to_count)\n",
    "print(count)"
   ]
  },
  {
   "cell_type": "code",
   "execution_count": 94,
   "metadata": {},
   "outputs": [
    {
     "name": "stdout",
     "output_type": "stream",
     "text": [
      "11\n"
     ]
    }
   ],
   "source": [
    "# q2\n",
    "max_element = max(t1)\n",
    "print(max_element)"
   ]
  },
  {
   "cell_type": "code",
   "execution_count": 95,
   "metadata": {},
   "outputs": [
    {
     "name": "stdout",
     "output_type": "stream",
     "text": [
      "1\n"
     ]
    }
   ],
   "source": [
    "# q3\n",
    "min_element = min(t1)\n",
    "print(min_element)"
   ]
  },
  {
   "cell_type": "code",
   "execution_count": 96,
   "metadata": {},
   "outputs": [
    {
     "name": "stdout",
     "output_type": "stream",
     "text": [
      "True\n"
     ]
    }
   ],
   "source": [
    "# q4\n",
    "element_to_check = 7\n",
    "exists = element_to_check in t1\n",
    "print(exists)"
   ]
  },
  {
   "cell_type": "code",
   "execution_count": 97,
   "metadata": {},
   "outputs": [
    {
     "name": "stdout",
     "output_type": "stream",
     "text": [
      "1\n"
     ]
    }
   ],
   "source": [
    "# q5\n",
    "first_element = t1[0] if t1 else None\n",
    "print(first_element)"
   ]
  },
  {
   "cell_type": "code",
   "execution_count": 98,
   "metadata": {},
   "outputs": [
    {
     "name": "stdout",
     "output_type": "stream",
     "text": [
      "5\n"
     ]
    }
   ],
   "source": [
    "# q6\n",
    "last_element = t1[-1] if t1 else None\n",
    "print(last_element)"
   ]
  },
  {
   "cell_type": "code",
   "execution_count": 99,
   "metadata": {},
   "outputs": [
    {
     "name": "stdout",
     "output_type": "stream",
     "text": [
      "11\n"
     ]
    }
   ],
   "source": [
    "# q7\n",
    "tuple_length = len(t1)\n",
    "print(tuple_length)"
   ]
  },
  {
   "cell_type": "code",
   "execution_count": 100,
   "metadata": {},
   "outputs": [
    {
     "name": "stdout",
     "output_type": "stream",
     "text": [
      "(1, 2, 3)\n"
     ]
    }
   ],
   "source": [
    "# q8\n",
    "sliced_tuple = t1[:3]\n",
    "print(sliced_tuple)"
   ]
  },
  {
   "cell_type": "code",
   "execution_count": 109,
   "metadata": {},
   "outputs": [
    {
     "name": "stdout",
     "output_type": "stream",
     "text": [
      "(1, 2, 3, 4, 5, 6, 6, 7, 11, 7, 5, 2, 4, 6, 8, 10, 12, 12, 14, 22, 14, 10)\n"
     ]
    }
   ],
   "source": [
    "# q9\n",
    "t2 = tuple(i*2 for i in t1)\n",
    "concatenated_tuple = t1 + t2\n",
    "print(concatenated_tuple)"
   ]
  },
  {
   "cell_type": "code",
   "execution_count": 110,
   "metadata": {},
   "outputs": [
    {
     "name": "stdout",
     "output_type": "stream",
     "text": [
      "False\n"
     ]
    }
   ],
   "source": [
    "# q10\n",
    "is_empty = len(t1) == 0\n",
    "print(is_empty)"
   ]
  },
  {
   "cell_type": "code",
   "execution_count": 111,
   "metadata": {},
   "outputs": [
    {
     "name": "stdout",
     "output_type": "stream",
     "text": [
      "[4, 10]\n"
     ]
    }
   ],
   "source": [
    "# q11\n",
    "indices = [i for i, x in enumerate(t1) if x == 5]\n",
    "print(indices)"
   ]
  },
  {
   "cell_type": "code",
   "execution_count": 112,
   "metadata": {},
   "outputs": [
    {
     "name": "stdout",
     "output_type": "stream",
     "text": [
      "7\n"
     ]
    }
   ],
   "source": [
    "# q12\n",
    "second_largest = sorted(set(t1))[-2] if len(set(t1)) > 1 else None\n",
    "print(second_largest)"
   ]
  },
  {
   "cell_type": "code",
   "execution_count": 113,
   "metadata": {},
   "outputs": [
    {
     "name": "stdout",
     "output_type": "stream",
     "text": [
      "2\n"
     ]
    }
   ],
   "source": [
    "# q13\n",
    "second_smallest = sorted(set(t1))[1] if len(set(t1)) > 1 else None\n",
    "print(second_smallest)"
   ]
  },
  {
   "cell_type": "code",
   "execution_count": 114,
   "metadata": {},
   "outputs": [
    {
     "name": "stdout",
     "output_type": "stream",
     "text": [
      "(5,)\n"
     ]
    }
   ],
   "source": [
    "# q14\n",
    "single_element_tuple = (5,)\n",
    "print(single_element_tuple)"
   ]
  },
  {
   "cell_type": "code",
   "execution_count": 115,
   "metadata": {},
   "outputs": [
    {
     "name": "stdout",
     "output_type": "stream",
     "text": [
      "(1, 2, 3, 11, 5, 2.0, 5, 6, 7, 8, 5, 3, 2, 3, 4, 6, 7, 8, 9, 8, 7, 6, 5, 4, 3)\n"
     ]
    }
   ],
   "source": [
    "# q15\n",
    "tuple_from_list = tuple(a1)\n",
    "print(tuple_from_list)"
   ]
  },
  {
   "cell_type": "code",
   "execution_count": 116,
   "metadata": {},
   "outputs": [
    {
     "name": "stdout",
     "output_type": "stream",
     "text": [
      "False\n"
     ]
    }
   ],
   "source": [
    "# q16\n",
    "is_sorted = t1 == tuple(sorted(t1))\n",
    "print(is_sorted)"
   ]
  },
  {
   "cell_type": "code",
   "execution_count": 117,
   "metadata": {},
   "outputs": [
    {
     "name": "stdout",
     "output_type": "stream",
     "text": [
      "5\n"
     ]
    }
   ],
   "source": [
    "# q17\n",
    "subtuple_max = max(t1[2:5])\n",
    "print(subtuple_max)"
   ]
  },
  {
   "cell_type": "code",
   "execution_count": 118,
   "metadata": {},
   "outputs": [
    {
     "name": "stdout",
     "output_type": "stream",
     "text": [
      "3\n"
     ]
    }
   ],
   "source": [
    "# q18\n",
    "subtuple_min = min(t1[2:5])\n",
    "print(subtuple_min)"
   ]
  },
  {
   "cell_type": "code",
   "execution_count": 119,
   "metadata": {},
   "outputs": [
    {
     "name": "stdout",
     "output_type": "stream",
     "text": [
      "(1, 2, 3, 4, 6, 6, 7, 11, 7)\n"
     ]
    }
   ],
   "source": [
    "# q19\n",
    "new_tuple = tuple(x for x in t1 if x != 5)\n",
    "print(new_tuple)"
   ]
  },
  {
   "cell_type": "code",
   "execution_count": 120,
   "metadata": {},
   "outputs": [
    {
     "name": "stdout",
     "output_type": "stream",
     "text": [
      "((1, 2), (3, 4), (5, 6), (6, 7), (11, 7), (5,))\n"
     ]
    }
   ],
   "source": [
    "# q20\n",
    "nested_tuple = tuple(t1[i:i+2] for i in range(0, len(t1), 2))\n",
    "print(nested_tuple)"
   ]
  },
  {
   "cell_type": "code",
   "execution_count": 121,
   "metadata": {},
   "outputs": [
    {
     "name": "stdout",
     "output_type": "stream",
     "text": [
      "(1, 1, 1, 2, 2, 2, 3, 3, 3, 4, 4, 4, 5, 5, 5, 6, 6, 6, 6, 6, 6, 7, 7, 7, 11, 11, 11, 7, 7, 7, 5, 5, 5)\n"
     ]
    }
   ],
   "source": [
    "# q21\n",
    "repeated_tuple = tuple(x for x in t1 for _ in range(3))\n",
    "print(repeated_tuple)"
   ]
  },
  {
   "cell_type": "code",
   "execution_count": 122,
   "metadata": {},
   "outputs": [
    {
     "name": "stdout",
     "output_type": "stream",
     "text": [
      "(1, 2, 3, 4, 5, 6, 7, 8, 9, 10)\n"
     ]
    }
   ],
   "source": [
    "# q22\n",
    "range_tuple = tuple(range(1, 11))\n",
    "print(range_tuple)"
   ]
  },
  {
   "cell_type": "code",
   "execution_count": 123,
   "metadata": {},
   "outputs": [
    {
     "name": "stdout",
     "output_type": "stream",
     "text": [
      "(5, 7, 11, 7, 6, 6, 5, 4, 3, 2, 1)\n"
     ]
    }
   ],
   "source": [
    "# q23\n",
    "reversed_tuple = t1[::-1]\n",
    "print(reversed_tuple)"
   ]
  },
  {
   "cell_type": "code",
   "execution_count": 124,
   "metadata": {},
   "outputs": [
    {
     "name": "stdout",
     "output_type": "stream",
     "text": [
      "False\n"
     ]
    }
   ],
   "source": [
    "# q24\n",
    "is_palindrome = t1 == t1[::-1]\n",
    "print(is_palindrome)"
   ]
  },
  {
   "cell_type": "code",
   "execution_count": 125,
   "metadata": {},
   "outputs": [
    {
     "name": "stdout",
     "output_type": "stream",
     "text": [
      "(1, 2, 3, 4, 5, 6, 7, 11)\n"
     ]
    }
   ],
   "source": [
    "# q25\n",
    "unique_tuple = tuple(dict.fromkeys(t1))\n",
    "print(unique_tuple)"
   ]
  },
  {
   "cell_type": "markdown",
   "metadata": {},
   "source": [
    "### **Set tasks**"
   ]
  },
  {
   "cell_type": "code",
   "execution_count": 126,
   "metadata": {},
   "outputs": [
    {
     "name": "stdout",
     "output_type": "stream",
     "text": [
      "{1, 2, 4, 6}\n"
     ]
    }
   ],
   "source": [
    "#q1\n",
    "set1 = {1, 2, 4}\n",
    "set2 = {2, 4, 6}\n",
    "union_set = set1 | set2\n",
    "print(union_set)"
   ]
  },
  {
   "cell_type": "code",
   "execution_count": null,
   "metadata": {},
   "outputs": [
    {
     "name": "stdout",
     "output_type": "stream",
     "text": [
      "{2, 4}\n"
     ]
    }
   ],
   "source": [
    "#q2\n",
    "intersection_set = set1 & set2\n",
    "print(intersection_set)"
   ]
  },
  {
   "cell_type": "code",
   "execution_count": null,
   "metadata": {},
   "outputs": [
    {
     "name": "stdout",
     "output_type": "stream",
     "text": [
      "{1}\n"
     ]
    }
   ],
   "source": [
    "#q3\n",
    "difference_set = set1 - set2\n",
    "print(difference_set)"
   ]
  },
  {
   "cell_type": "code",
   "execution_count": null,
   "metadata": {},
   "outputs": [
    {
     "name": "stdout",
     "output_type": "stream",
     "text": [
      "False\n"
     ]
    }
   ],
   "source": [
    "#q4\n",
    "is_subset = set1.issubset(set2)\n",
    "print(is_subset)"
   ]
  },
  {
   "cell_type": "code",
   "execution_count": null,
   "metadata": {},
   "outputs": [
    {
     "name": "stdout",
     "output_type": "stream",
     "text": [
      "True\n"
     ]
    }
   ],
   "source": [
    "#q5\n",
    "element_exists = 4 in set1\n",
    "print(element_exists)"
   ]
  },
  {
   "cell_type": "code",
   "execution_count": null,
   "metadata": {},
   "outputs": [
    {
     "name": "stdout",
     "output_type": "stream",
     "text": [
      "3\n"
     ]
    }
   ],
   "source": [
    "#q6\n",
    "set_length = len(set1)\n",
    "print(set_length)"
   ]
  },
  {
   "cell_type": "code",
   "execution_count": 133,
   "metadata": {},
   "outputs": [
    {
     "name": "stdout",
     "output_type": "stream",
     "text": [
      "{1, 2, 3, 4, 5, 6}\n"
     ]
    }
   ],
   "source": [
    "#q7\n",
    "unique_set = set([1,2,3,4,5,6])\n",
    "print(unique_set)"
   ]
  },
  {
   "cell_type": "code",
   "execution_count": 134,
   "metadata": {},
   "outputs": [
    {
     "name": "stdout",
     "output_type": "stream",
     "text": [
      "{2, 4}\n"
     ]
    }
   ],
   "source": [
    "#q8\n",
    "set1.discard(1)\n",
    "print(set1)"
   ]
  },
  {
   "cell_type": "code",
   "execution_count": 135,
   "metadata": {},
   "outputs": [
    {
     "name": "stdout",
     "output_type": "stream",
     "text": [
      "None\n"
     ]
    }
   ],
   "source": [
    "#q9\n",
    "empty_set = set1.clear()\n",
    "print(empty_set)"
   ]
  },
  {
   "cell_type": "code",
   "execution_count": 136,
   "metadata": {},
   "outputs": [
    {
     "name": "stdout",
     "output_type": "stream",
     "text": [
      "True\n"
     ]
    }
   ],
   "source": [
    "#q10\n",
    "is_empty = len(set1) == 0\n",
    "print(is_empty)"
   ]
  },
  {
   "cell_type": "code",
   "execution_count": 137,
   "metadata": {},
   "outputs": [
    {
     "name": "stdout",
     "output_type": "stream",
     "text": [
      "{2, 4, 6}\n"
     ]
    }
   ],
   "source": [
    "#q11\n",
    "sym_diff_set = set1 ^ set2\n",
    "print(sym_diff_set)"
   ]
  },
  {
   "cell_type": "code",
   "execution_count": 139,
   "metadata": {},
   "outputs": [
    {
     "name": "stdout",
     "output_type": "stream",
     "text": [
      "{8}\n"
     ]
    }
   ],
   "source": [
    "#q12\n",
    "set1.add(8)\n",
    "print(set1)"
   ]
  },
  {
   "cell_type": "code",
   "execution_count": 140,
   "metadata": {},
   "outputs": [
    {
     "name": "stdout",
     "output_type": "stream",
     "text": [
      "8\n"
     ]
    }
   ],
   "source": [
    "#13\n",
    "popped_element = set1.pop()\n",
    "print(popped_element)"
   ]
  },
  {
   "cell_type": "code",
   "execution_count": 145,
   "metadata": {},
   "outputs": [
    {
     "name": "stdout",
     "output_type": "stream",
     "text": [
      "6\n"
     ]
    }
   ],
   "source": [
    "#q14\n",
    "max_value = max(set2)\n",
    "print(max_value)"
   ]
  },
  {
   "cell_type": "code",
   "execution_count": null,
   "metadata": {},
   "outputs": [
    {
     "name": "stdout",
     "output_type": "stream",
     "text": [
      "2\n"
     ]
    }
   ],
   "source": [
    "#q15\n",
    "min_value = min(set2)\n",
    "print(min_value)"
   ]
  },
  {
   "cell_type": "code",
   "execution_count": null,
   "metadata": {},
   "outputs": [
    {
     "name": "stdout",
     "output_type": "stream",
     "text": [
      "set()\n"
     ]
    }
   ],
   "source": [
    "#q16\n",
    "even_numbers = {x for x in set1 if x % 2 == 0}\n",
    "print(even_numbers)"
   ]
  },
  {
   "cell_type": "code",
   "execution_count": null,
   "metadata": {},
   "outputs": [
    {
     "name": "stdout",
     "output_type": "stream",
     "text": [
      "set()\n"
     ]
    }
   ],
   "source": [
    "#q17\n",
    "odd_numbers = {x for x in set1 if x % 2 != 0}\n",
    "print(odd_numbers)"
   ]
  },
  {
   "cell_type": "code",
   "execution_count": null,
   "metadata": {},
   "outputs": [],
   "source": [
    "#q18\n",
    "range_set = set(range(1, 11))\n",
    "print(range_set)"
   ]
  },
  {
   "cell_type": "code",
   "execution_count": null,
   "metadata": {},
   "outputs": [
    {
     "name": "stdout",
     "output_type": "stream",
     "text": [
      "{1, 2, 3, 5}\n"
     ]
    }
   ],
   "source": [
    "#19\n",
    "merged_set = set([1,2,3]) | set([3,2,1,5])\n",
    "print(merged_set)"
   ]
  },
  {
   "cell_type": "code",
   "execution_count": null,
   "metadata": {},
   "outputs": [
    {
     "name": "stdout",
     "output_type": "stream",
     "text": [
      "True\n"
     ]
    }
   ],
   "source": [
    "#20\n",
    "are_disjoint = set1.isdisjoint(set2)\n",
    "print(are_disjoint)"
   ]
  },
  {
   "cell_type": "code",
   "execution_count": null,
   "metadata": {},
   "outputs": [
    {
     "name": "stdout",
     "output_type": "stream",
     "text": [
      "[33, 4, 5, 6]\n"
     ]
    }
   ],
   "source": [
    "#q21\n",
    "unique_list = list(set([33,4,5,6]))\n",
    "print(unique_list)"
   ]
  },
  {
   "cell_type": "code",
   "execution_count": null,
   "metadata": {},
   "outputs": [
    {
     "name": "stdout",
     "output_type": "stream",
     "text": [
      "3\n"
     ]
    }
   ],
   "source": [
    "#q22\n",
    "unique_count = len(set([5,6,7]))\n",
    "print(unique_count)"
   ]
  },
  {
   "cell_type": "code",
   "execution_count": null,
   "metadata": {},
   "outputs": [
    {
     "name": "stdout",
     "output_type": "stream",
     "text": [
      "{38, 8, 11, 50, 85, 89, 90, 60}\n"
     ]
    }
   ],
   "source": [
    "#q23\n",
    "import random\n",
    "random_set = {random.randint(1, 100) for _ in range(10)}\n",
    "print(random_set)"
   ]
  },
  {
   "cell_type": "markdown",
   "metadata": {},
   "source": [
    "### **Dictionary tasks**"
   ]
  },
  {
   "cell_type": "code",
   "execution_count": 1,
   "metadata": {},
   "outputs": [
    {
     "name": "stdout",
     "output_type": "stream",
     "text": [
      "Olma\n"
     ]
    }
   ],
   "source": [
    "#q1\n",
    "my_dict = {\n",
    "    \"A\" : \"Olma\",\n",
    "    \"G\" : \"Uzum\",\n",
    "    \"P\" : \"Anor\"\n",
    "}\n",
    "value = my_dict.get(\"A\")\n",
    "print(value)"
   ]
  },
  {
   "cell_type": "code",
   "execution_count": 2,
   "metadata": {},
   "outputs": [
    {
     "name": "stdout",
     "output_type": "stream",
     "text": [
      "False\n"
     ]
    }
   ],
   "source": [
    "#q2\n",
    "key_exists = \"F\" in my_dict\n",
    "print(key_exists)"
   ]
  },
  {
   "cell_type": "code",
   "execution_count": 3,
   "metadata": {},
   "outputs": [
    {
     "name": "stdout",
     "output_type": "stream",
     "text": [
      "3\n"
     ]
    }
   ],
   "source": [
    "#q3\n",
    "key_count = len(my_dict)\n",
    "print(key_count)"
   ]
  },
  {
   "cell_type": "code",
   "execution_count": 4,
   "metadata": {},
   "outputs": [
    {
     "name": "stdout",
     "output_type": "stream",
     "text": [
      "['A', 'G', 'P']\n"
     ]
    }
   ],
   "source": [
    "#q4\n",
    "keys_list = list(my_dict.keys())\n",
    "print(keys_list)"
   ]
  },
  {
   "cell_type": "code",
   "execution_count": 5,
   "metadata": {},
   "outputs": [
    {
     "name": "stdout",
     "output_type": "stream",
     "text": [
      "['Olma', 'Uzum', 'Anor']\n"
     ]
    }
   ],
   "source": [
    "#q5\n",
    "values_list = list(my_dict.values())\n",
    "print(values_list)"
   ]
  },
  {
   "cell_type": "code",
   "execution_count": 6,
   "metadata": {},
   "outputs": [
    {
     "name": "stdout",
     "output_type": "stream",
     "text": [
      "{'A': 'Avacado', 'G': 'Uzum', 'P': 'Anor', 'C': 'Bodring', 'O': 'Apelsin'}\n"
     ]
    }
   ],
   "source": [
    "#q6\n",
    "my_dict_1 = {\n",
    "    \"C\" : \"Bodring\",\n",
    "    \"A\" : \"Avacado\",\n",
    "    \"O\" : \"Apelsin\"\n",
    "}\n",
    "merged_dict = {**my_dict, **my_dict_1}\n",
    "print(merged_dict)"
   ]
  },
  {
   "cell_type": "code",
   "execution_count": 7,
   "metadata": {},
   "outputs": [
    {
     "name": "stdout",
     "output_type": "stream",
     "text": [
      "{'G': 'Uzum', 'P': 'Anor'}\n"
     ]
    }
   ],
   "source": [
    "#q7\n",
    "my_dict.pop(\"A\", None)\n",
    "print(my_dict)"
   ]
  },
  {
   "cell_type": "code",
   "execution_count": 8,
   "metadata": {},
   "outputs": [
    {
     "name": "stdout",
     "output_type": "stream",
     "text": [
      "{}\n"
     ]
    }
   ],
   "source": [
    "#q8\n",
    "empty_dict = {}\n",
    "print(empty_dict)"
   ]
  },
  {
   "cell_type": "code",
   "execution_count": 9,
   "metadata": {},
   "outputs": [
    {
     "name": "stdout",
     "output_type": "stream",
     "text": [
      "False\n"
     ]
    }
   ],
   "source": [
    "#q9\n",
    "is_dict_empty = len(my_dict) == 0\n",
    "print(is_dict_empty)"
   ]
  },
  {
   "cell_type": "code",
   "execution_count": 10,
   "metadata": {},
   "outputs": [
    {
     "name": "stdout",
     "output_type": "stream",
     "text": [
      "None\n"
     ]
    }
   ],
   "source": [
    "#q10\n",
    "key_value_pair = my_dict.get(\"A\", None)\n",
    "print(key_value_pair)"
   ]
  },
  {
   "cell_type": "code",
   "execution_count": 11,
   "metadata": {},
   "outputs": [
    {
     "name": "stdout",
     "output_type": "stream",
     "text": [
      "{'G': 'Uzum', 'P': 'Anor', 'B': 'Banan'}\n"
     ]
    }
   ],
   "source": [
    "#q11\n",
    "my_dict[\"B\"] = \"Banan\"\n",
    "print(my_dict)"
   ]
  },
  {
   "cell_type": "code",
   "execution_count": 13,
   "metadata": {},
   "outputs": [
    {
     "name": "stdout",
     "output_type": "stream",
     "text": [
      "1\n"
     ]
    }
   ],
   "source": [
    "#q12\n",
    "value_count = list(my_dict.values()).count(\"Banan\")\n",
    "print(value_count)"
   ]
  },
  {
   "cell_type": "code",
   "execution_count": 14,
   "metadata": {},
   "outputs": [
    {
     "name": "stdout",
     "output_type": "stream",
     "text": [
      "{'Uzum': 'G', 'Anor': 'P', 'Banan': 'B'}\n"
     ]
    }
   ],
   "source": [
    "#q13\n",
    "inverted_dict = {v: k for k, v in my_dict.items()}\n",
    "print(inverted_dict)"
   ]
  },
  {
   "cell_type": "code",
   "execution_count": 15,
   "metadata": {},
   "outputs": [
    {
     "name": "stdout",
     "output_type": "stream",
     "text": [
      "['B']\n"
     ]
    }
   ],
   "source": [
    "#q14\n",
    "keys_with_value = [k for k, v in my_dict.items() if v == \"Banan\"]\n",
    "print(keys_with_value)"
   ]
  },
  {
   "cell_type": "code",
   "execution_count": 16,
   "metadata": {},
   "outputs": [
    {
     "name": "stdout",
     "output_type": "stream",
     "text": [
      "{'A': 'Olma', 'G': 'Uzum', 'P': 'Anor'}\n"
     ]
    }
   ],
   "source": [
    "#q15\n",
    "dict_from_lists = dict(zip(keys_list, values_list))\n",
    "print(dict_from_lists)"
   ]
  },
  {
   "cell_type": "code",
   "execution_count": 17,
   "metadata": {},
   "outputs": [
    {
     "name": "stdout",
     "output_type": "stream",
     "text": [
      "False\n"
     ]
    }
   ],
   "source": [
    "#q16\n",
    "has_nested = any(isinstance(v, dict) for v in my_dict.values())\n",
    "print(has_nested)"
   ]
  },
  {
   "cell_type": "code",
   "execution_count": 24,
   "metadata": {},
   "outputs": [
    {
     "name": "stdout",
     "output_type": "stream",
     "text": [
      "X7\n"
     ]
    }
   ],
   "source": [
    "#17\n",
    "nested_value = {\n",
    "    \"car_company\" : {\"BWM\" : \"X7\"}\n",
    "}\n",
    "print(nested_value.get(\"car_company\").get(\"BWM\"))"
   ]
  },
  {
   "cell_type": "code",
   "execution_count": 25,
   "metadata": {},
   "outputs": [
    {
     "name": "stdout",
     "output_type": "stream",
     "text": [
      "defaultdict(<function <lambda> at 0x00000162AEB47880>, {})\n"
     ]
    }
   ],
   "source": [
    "#q18\n",
    "from collections import defaultdict\n",
    "default_dict = defaultdict(lambda: 'default_value')\n",
    "print(default_dict)"
   ]
  },
  {
   "cell_type": "code",
   "execution_count": 26,
   "metadata": {},
   "outputs": [
    {
     "name": "stdout",
     "output_type": "stream",
     "text": [
      "3\n"
     ]
    }
   ],
   "source": [
    "#q19\n",
    "unique_values_count = len(set(my_dict.values()))\n",
    "print(unique_values_count)"
   ]
  },
  {
   "cell_type": "code",
   "execution_count": 27,
   "metadata": {},
   "outputs": [
    {
     "name": "stdout",
     "output_type": "stream",
     "text": [
      "{'B': 'Banan', 'G': 'Uzum', 'P': 'Anor'}\n"
     ]
    }
   ],
   "source": [
    "#q20\n",
    "sorted_by_key = dict(sorted(my_dict.items()))\n",
    "print(sorted_by_key)"
   ]
  },
  {
   "cell_type": "code",
   "execution_count": 35,
   "metadata": {},
   "outputs": [
    {
     "name": "stdout",
     "output_type": "stream",
     "text": [
      "{'Banan': 'B', 'Uzum': 'G', 'Anor': 'P'}\n"
     ]
    }
   ],
   "source": [
    "#q21\n",
    "sorted_by_value = {v: k for k, v in sorted(my_dict.items())}\n",
    "print(sorted_by_value)"
   ]
  },
  {
   "cell_type": "code",
   "execution_count": 36,
   "metadata": {},
   "outputs": [
    {
     "name": "stdout",
     "output_type": "stream",
     "text": [
      "{'MERS': 2}\n"
     ]
    }
   ],
   "source": [
    "#q22\n",
    "my_dict_2 = {\n",
    "    \"BMW\" : 1,\n",
    "    \"MERS\" : 2\n",
    "}\n",
    "filtered_dict = {k: v for k, v in my_dict_2.items() if v > 1}\n",
    "print(filtered_dict)"
   ]
  },
  {
   "cell_type": "code",
   "execution_count": 38,
   "metadata": {},
   "outputs": [
    {
     "name": "stdout",
     "output_type": "stream",
     "text": [
      "{'b'}\n"
     ]
    }
   ],
   "source": [
    "#q23\n",
    "dict1 = {'a': 1, 'b': 2, 'c': 3}\n",
    "dict2 = {'b': 4, 'd': 5, 'e': 6}\n",
    "\n",
    "common_keys = set(dict1.keys()) & set(dict2.keys())\n",
    "\n",
    "print(common_keys)"
   ]
  },
  {
   "cell_type": "code",
   "execution_count": 39,
   "metadata": {},
   "outputs": [
    {
     "name": "stdout",
     "output_type": "stream",
     "text": [
      "{'name': 'Dovud', 'color': 'blue', 'city': 'Tashkent'}\n"
     ]
    }
   ],
   "source": [
    "#q24\n",
    "tuple_data = (('name', 'Dovud'), ('color', \"blue\"), ('city', 'Tashkent'))\n",
    "dict_from_tuple = dict(tuple_data)\n",
    "print(dict_from_tuple)"
   ]
  },
  {
   "cell_type": "code",
   "execution_count": 40,
   "metadata": {},
   "outputs": [
    {
     "name": "stdout",
     "output_type": "stream",
     "text": [
      "('G', 'Uzum')\n"
     ]
    }
   ],
   "source": [
    "#q25\n",
    "first_pair = next(iter(my_dict.items()), None)\n",
    "print(first_pair)"
   ]
  },
  {
   "cell_type": "code",
   "execution_count": null,
   "metadata": {},
   "outputs": [],
   "source": []
  },
  {
   "cell_type": "code",
   "execution_count": null,
   "metadata": {},
   "outputs": [],
   "source": []
  }
 ],
 "metadata": {
  "kernelspec": {
   "display_name": "Python 3",
   "language": "python",
   "name": "python3"
  },
  "language_info": {
   "codemirror_mode": {
    "name": "ipython",
    "version": 3
   },
   "file_extension": ".py",
   "mimetype": "text/x-python",
   "name": "python",
   "nbconvert_exporter": "python",
   "pygments_lexer": "ipython3",
   "version": "3.12.7"
  }
 },
 "nbformat": 4,
 "nbformat_minor": 2
}
