{
 "cells": [
  {
   "cell_type": "code",
   "execution_count": null,
   "metadata": {},
   "outputs": [],
   "source": [
    "#q1\n",
    "def convert_cel_to_far(c):\n",
    "    return round(c * 9/5 + 32, 2)\n",
    "\n",
    "def convert_far_to_cel(f):\n",
    "    return round((f - 32) * 5/9, 2)\n",
    "\n",
    "def temperature_conversion():\n",
    "    f = float(input(\"Enter a temperature in degrees F: \"))\n",
    "    print(f\"{f} degrees F = {convert_far_to_cel(f)} degrees C\")\n",
    "    \n",
    "    c = float(input(\"Enter a temperature in degrees C: \"))\n",
    "    print(f\"{c} degrees C = {convert_cel_to_far(c)} degrees F\")\n",
    "\n",
    "temperature_conversion()"
   ]
  },
  {
   "cell_type": "code",
   "execution_count": null,
   "metadata": {},
   "outputs": [
    {
     "name": "stdout",
     "output_type": "stream",
     "text": [
      "year 1: $6.00\n",
      "year 2: $18.00\n"
     ]
    }
   ],
   "source": [
    "#q2\n",
    "def invest(amount, rate, years):\n",
    "    for year in range(1, years + 1):\n",
    "        amount += amount * rate\n",
    "        print(f\"year {year}: ${amount:.2f}\")\n",
    "\n",
    "amount = float(input(\"Enter initial amount: \"))\n",
    "rate = float(input(\"Enter annual rate of return (decimal form): \"))\n",
    "years = int(input(\"Enter number of years: \"))\n",
    "invest(amount, rate, years)"
   ]
  },
  {
   "cell_type": "code",
   "execution_count": 3,
   "metadata": {},
   "outputs": [
    {
     "name": "stdout",
     "output_type": "stream",
     "text": [
      "1 is a factor of 100\n",
      "2 is a factor of 100\n",
      "4 is a factor of 100\n",
      "5 is a factor of 100\n",
      "10 is a factor of 100\n",
      "20 is a factor of 100\n",
      "25 is a factor of 100\n",
      "50 is a factor of 100\n",
      "100 is a factor of 100\n"
     ]
    }
   ],
   "source": [
    "#q3\n",
    "def factors():\n",
    "    n = int(input(\"Enter a positive integer: \"))\n",
    "    for i in range(1, n + 1):\n",
    "        if n % i == 0:\n",
    "            print(f\"{i} is a factor of {n}\")\n",
    "\n",
    "factors()"
   ]
  },
  {
   "cell_type": "code",
   "execution_count": 8,
   "metadata": {},
   "outputs": [
    {
     "name": "stdout",
     "output_type": "stream",
     "text": [
      "******************************\n",
      "Total students: 77,285\n",
      "Total tuition: $ 271,905\n",
      "\n",
      "Student mean: 11040.71\n",
      "Student median: 10566\n",
      "\n",
      "Tuition mean: $ 38843.57\n",
      "Tuition median: $ 39,849\n",
      "******************************\n"
     ]
    }
   ],
   "source": [
    "#q4\n",
    "def enrollment_stats(universities):\n",
    "    students = [uni[1] for uni in universities]\n",
    "    tuition = [uni[2] for uni in universities]\n",
    "    return students, tuition\n",
    "\n",
    "def mean(numbers):\n",
    "    return sum(numbers) / len(numbers)\n",
    "\n",
    "def median(numbers):\n",
    "    sorted_numbers = sorted(numbers)\n",
    "    mid = len(sorted_numbers) // 2\n",
    "    if len(sorted_numbers) % 2 == 0:\n",
    "        return (sorted_numbers[mid - 1] + sorted_numbers[mid]) / 2\n",
    "    else:\n",
    "        return sorted_numbers[mid]\n",
    "\n",
    "universities = [\n",
    "    ['California Institute of Technology', 2175, 37704],\n",
    "    ['Harvard', 19627, 39849],\n",
    "    ['Massachusetts Institute of Technology', 10566, 40732],\n",
    "    ['Princeton', 7802, 37000],\n",
    "    ['Rice', 5879, 35551],\n",
    "    ['Stanford', 19535, 40569],\n",
    "    ['Yale', 11701, 40500]\n",
    "]\n",
    "\n",
    "students, tuition = enrollment_stats(universities)\n",
    "print(\"******************************\")\n",
    "print(f\"Total students: {sum(students):,}\")\n",
    "print(f\"Total tuition: $ {sum(tuition):,}\\n\")\n",
    "print(f\"Student mean: {mean(students):.2f}\")\n",
    "print(f\"Student median: {median(students):.0f}\\n\")\n",
    "print(f\"Tuition mean: $ {mean(tuition):.2f}\")\n",
    "print(f\"Tuition median: $ {median(tuition):,.0f}\")\n",
    "print(\"******************************\")"
   ]
  },
  {
   "cell_type": "code",
   "execution_count": 6,
   "metadata": {},
   "outputs": [
    {
     "data": {
      "text/plain": [
       "True"
      ]
     },
     "execution_count": 6,
     "metadata": {},
     "output_type": "execute_result"
    }
   ],
   "source": [
    "#q5\n",
    "def is_prime(n):\n",
    "    if n < 2:\n",
    "        return False\n",
    "    for i in range(2, int(n ** 0.5) + 1):\n",
    "        if n % i == 0:\n",
    "            return False\n",
    "    return True\n",
    "\n",
    "is_prime(5)"
   ]
  }
 ],
 "metadata": {
  "kernelspec": {
   "display_name": "Python 3",
   "language": "python",
   "name": "python3"
  },
  "language_info": {
   "codemirror_mode": {
    "name": "ipython",
    "version": 3
   },
   "file_extension": ".py",
   "mimetype": "text/x-python",
   "name": "python",
   "nbconvert_exporter": "python",
   "pygments_lexer": "ipython3",
   "version": "3.12.7"
  }
 },
 "nbformat": 4,
 "nbformat_minor": 2
}
